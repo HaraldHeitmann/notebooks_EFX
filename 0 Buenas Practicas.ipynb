{
 "cells": [
  {
   "cell_type": "markdown",
   "metadata": {},
   "source": [
    "#### DISCLAIMER:\n",
    "Este notebook contiene algunas buenas practicas para la programación en python, y de ninguna manera aspira a contenerlas todas, los 2 motivos principales de esto son:\n",
    " 1. Lo que para algunos son buenas practicas para otros no lo son.\n",
    " 2. Es dificil encontrar una lista como esta.\n",
    "\n",
    "Por lo anterior, los lectores deben considerar este listado como trabajo en progreso."
   ]
  },
  {
   "cell_type": "markdown",
   "metadata": {},
   "source": [
    "### Estructura:\n",
    " 1. [Buenas Practicas](#bestpractices)\n",
    " 2. [TIPs](#tips)"
   ]
  },
  {
   "cell_type": "markdown",
   "metadata": {},
   "source": [
    "# Buenas Practicas <a id='bestpractices'> </a>"
   ]
  },
  {
   "cell_type": "markdown",
   "metadata": {},
   "source": [
    "### 1. Leer [PEP8](https://www.python.org/dev/peps/pep-0008/) (python enhancement proposal)\n",
    "Contiene una *guideline* de como se  debería escribir código en python, por ejemplo, sobre como deberían ir los comentarios, los *docstrings*.\n",
    "No todos los programadores siguen pep8, por ejemplo la regla de 79 caracteres máximo (es una *controversial*, las pantallas son más grandes ahora y otros motivos (leer articulo de [Jake Vanderplas](https://jakevdp.github.io/blog/2017/11/09/exploring-line-lengths-in-python-packages/)))"
   ]
  },
  {
   "cell_type": "markdown",
   "metadata": {},
   "source": [
    "### 2. Sigue el zen de python"
   ]
  },
  {
   "cell_type": "code",
   "execution_count": 1,
   "metadata": {},
   "outputs": [
    {
     "name": "stdout",
     "output_type": "stream",
     "text": [
      "The Zen of Python, by Tim Peters\n",
      "\n",
      "Beautiful is better than ugly.\n",
      "Explicit is better than implicit.\n",
      "Simple is better than complex.\n",
      "Complex is better than complicated.\n",
      "Flat is better than nested.\n",
      "Sparse is better than dense.\n",
      "Readability counts.\n",
      "Special cases aren't special enough to break the rules.\n",
      "Although practicality beats purity.\n",
      "Errors should never pass silently.\n",
      "Unless explicitly silenced.\n",
      "In the face of ambiguity, refuse the temptation to guess.\n",
      "There should be one-- and preferably only one --obvious way to do it.\n",
      "Although that way may not be obvious at first unless you're Dutch.\n",
      "Now is better than never.\n",
      "Although never is often better than *right* now.\n",
      "If the implementation is hard to explain, it's a bad idea.\n",
      "If the implementation is easy to explain, it may be a good idea.\n",
      "Namespaces are one honking great idea -- let's do more of those!\n"
     ]
    }
   ],
   "source": [
    "import this "
   ]
  },
  {
   "cell_type": "markdown",
   "metadata": {},
   "source": [
    "### 3. Trata de ser pythonista.\n",
    "Mucho de ser pythonista se adquiere con la practica, otro esta en pep8, pero consideremos el siguiente ejemplo: "
   ]
  },
  {
   "cell_type": "code",
   "execution_count": 2,
   "metadata": {},
   "outputs": [
    {
     "name": "stdout",
     "output_type": "stream",
     "text": [
      "persona 1 maneja un auto\n",
      "persona 2 maneja un camion\n",
      "persona 2 maneja un bus\n"
     ]
    }
   ],
   "source": [
    "# malo\n",
    "personas = ['persona 1', 'persona 2', 'persona 2']\n",
    "autos = ['auto', 'camion', 'bus']\n",
    "i=0\n",
    "while i<len(personas):\n",
    "    print(personas[i] + ' maneja un '+ autos[i])\n",
    "    i=i+1"
   ]
  },
  {
   "cell_type": "code",
   "execution_count": 3,
   "metadata": {},
   "outputs": [
    {
     "name": "stdout",
     "output_type": "stream",
     "text": [
      "persona 1 maneja un auto\n",
      "persona 2 maneja un camion\n",
      "persona 2 maneja un bus\n"
     ]
    }
   ],
   "source": [
    "# menos malo\n",
    "contador=0\n",
    "for i in range(len(personas)):\n",
    "    print('{} maneja un {}'.format(personas[contador],autos[contador]))\n",
    "    contador+=1"
   ]
  },
  {
   "cell_type": "code",
   "execution_count": 4,
   "metadata": {},
   "outputs": [
    {
     "name": "stdout",
     "output_type": "stream",
     "text": [
      "persona 1 maneja un auto\n",
      "persona 2 maneja un camion\n",
      "persona 2 maneja un bus\n"
     ]
    }
   ],
   "source": [
    "#  \"mejor\"\n",
    "for contador in range(len(personas)):\n",
    "    print('{} maneja un {}'.format(personas[contador],autos[contador]))\n"
   ]
  },
  {
   "cell_type": "code",
   "execution_count": 5,
   "metadata": {},
   "outputs": [
    {
     "name": "stdout",
     "output_type": "stream",
     "text": [
      "persona 1 maneja un auto\n",
      "persona 2 maneja un camion\n",
      "persona 2 maneja un bus\n"
     ]
    }
   ],
   "source": [
    "# más mejor\n",
    "for auto, persona in zip(autos,personas):\n",
    "    print('{} maneja un {}'.format(persona,auto))"
   ]
  },
  {
   "cell_type": "markdown",
   "metadata": {},
   "source": [
    "Usa variables auto-explicativas y aprovecha las funciones nativas de python"
   ]
  },
  {
   "cell_type": "markdown",
   "metadata": {},
   "source": [
    "# Tips <a id='tips'> </a>\n",
    "Estos tips no están necesariamente ordenados por orden de importancia/utilidad u otro. "
   ]
  },
  {
   "cell_type": "markdown",
   "metadata": {},
   "source": [
    "### 1. Usa celdas MarkDown.\n",
    "Para que tus notebooks estén bonitos, recuerda usar celdas de texto enriquecido (tipo MarkDown), con eso podrás incluir cosas como lo siguiente:"
   ]
  },
  {
   "cell_type": "markdown",
   "metadata": {},
   "source": [
    "0. Headers:\n",
    "# De\n",
    "###    Distintos\n",
    "## Tamaños\n",
    "\n",
    "1. Listas:\n",
    " * item.\n",
    " * otro item.\n",
    "\n",
    "2. Enumeraciones: (esta enumeración es anidada)\n",
    " 1. Primero. \n",
    " 2. Segundo.\n",
    "\n",
    "3. Latex (para los ñoños):\n",
    " $$1+1=2$$\n",
    "o quizás\n",
    " $$\\int_{\\Omega}f(x)dx \\approx \\sum_{i=1}^{n-1}\\left( \\frac{f(x_i)+f(x_{i+1})}{2}(x_{i+1}-x_{i})\\right) $$\n",
    " para alguna partición $\\left(x_i\\right)_{i=0}^{i=n}$ de $\\Omega$ y $\\Omega$ sea un intervalo real\n",
    "\n",
    "4. Hipervínculos:\n",
    "¿Cómo se hace? Sigue [este](http://lmgtfy.com/?q=How+to+add+links+to+a+markdown+in+jupyter+notebook) link.\n",
    "\n",
    "5. Imagenes: <img src='https://c1.staticflickr.com/9/8166/6982079300_1e9d4101c9_b.jpg' width='100px'>\n",
    "para esto debes agregar una *tag* html de imagen (<< img src='link a la imagen'>>) con <<>> simples.  (la imagen anterior no tiene *copywrite*)\n",
    "\n",
    "6. Mucho más!"
   ]
  },
  {
   "cell_type": "markdown",
   "metadata": {},
   "source": [
    "### 2. usa celdas mágicas:\n",
    "Cuando  queremos que los gráficos se generen en el notebook, debemos usar el comando mágico:"
   ]
  },
  {
   "cell_type": "code",
   "execution_count": 6,
   "metadata": {},
   "outputs": [],
   "source": [
    "%matplotlib inline"
   ]
  },
  {
   "cell_type": "markdown",
   "metadata": {},
   "source": [
    "Esto se ejemplifica:"
   ]
  },
  {
   "cell_type": "code",
   "execution_count": 7,
   "metadata": {},
   "outputs": [
    {
     "data": {
      "image/png": "[encoded data removed]",
      "text/plain": [
       "<matplotlib.figure.Figure at 0x7f7d4a92dbe0>"
      ]
     },
     "metadata": {},
     "output_type": "display_data"
    }
   ],
   "source": [
    "from matplotlib import pyplot as plt\n",
    "plt.plot(range(10),[i%3 for i in range(10)])\n",
    "plt.show() #esta linea sirve para que no se muestre un pequeño output"
   ]
  },
  {
   "cell_type": "markdown",
   "metadata": {},
   "source": [
    "También existen otras comandos magicos"
   ]
  },
  {
   "cell_type": "code",
   "execution_count": 8,
   "metadata": {},
   "outputs": [
    {
     "data": {
      "application/json": {
       "cell": {
        "!": "OSMagics",
        "HTML": "Other",
        "SVG": "Other",
        "bash": "Other",
        "capture": "ExecutionMagics",
        "debug": "ExecutionMagics",
        "file": "Other",
        "html": "DisplayMagics",
        "javascript": "DisplayMagics",
        "js": "DisplayMagics",
        "latex": "DisplayMagics",
        "markdown": "DisplayMagics",
        "perl": "Other",
        "prun": "ExecutionMagics",
        "pypy": "Other",
        "python": "Other",
        "python2": "Other",
        "python3": "Other",
        "ruby": "Other",
        "script": "ScriptMagics",
        "sh": "Other",
        "svg": "DisplayMagics",
        "sx": "OSMagics",
        "system": "OSMagics",
        "time": "ExecutionMagics",
        "timeit": "ExecutionMagics",
        "writefile": "OSMagics"
       },
       "line": {
        "alias": "OSMagics",
        "alias_magic": "BasicMagics",
        "autocall": "AutoMagics",
        "automagic": "AutoMagics",
        "autosave": "KernelMagics",
        "bookmark": "OSMagics",
        "cat": "Other",
        "cd": "OSMagics",
        "clear": "KernelMagics",
        "colors": "BasicMagics",
        "config": "ConfigMagics",
        "connect_info": "KernelMagics",
        "cp": "Other",
        "debug": "ExecutionMagics",
        "dhist": "OSMagics",
        "dirs": "OSMagics",
        "doctest_mode": "BasicMagics",
        "ed": "Other",
        "edit": "KernelMagics",
        "env": "OSMagics",
        "gui": "BasicMagics",
        "hist": "Other",
        "history": "HistoryMagics",
        "killbgscripts": "ScriptMagics",
        "ldir": "Other",
        "less": "KernelMagics",
        "lf": "Other",
        "lk": "Other",
        "ll": "Other",
        "load": "CodeMagics",
        "load_ext": "ExtensionMagics",
        "loadpy": "CodeMagics",
        "logoff": "LoggingMagics",
        "logon": "LoggingMagics",
        "logstart": "LoggingMagics",
        "logstate": "LoggingMagics",
        "logstop": "LoggingMagics",
        "ls": "Other",
        "lsmagic": "BasicMagics",
        "lx": "Other",
        "macro": "ExecutionMagics",
        "magic": "BasicMagics",
        "man": "KernelMagics",
        "matplotlib": "PylabMagics",
        "mkdir": "Other",
        "more": "KernelMagics",
        "mv": "Other",
        "notebook": "BasicMagics",
        "page": "BasicMagics",
        "pastebin": "CodeMagics",
        "pdb": "ExecutionMagics",
        "pdef": "NamespaceMagics",
        "pdoc": "NamespaceMagics",
        "pfile": "NamespaceMagics",
        "pinfo": "NamespaceMagics",
        "pinfo2": "NamespaceMagics",
        "pip": "BasicMagics",
        "popd": "OSMagics",
        "pprint": "BasicMagics",
        "precision": "BasicMagics",
        "profile": "BasicMagics",
        "prun": "ExecutionMagics",
        "psearch": "NamespaceMagics",
        "psource": "NamespaceMagics",
        "pushd": "OSMagics",
        "pwd": "OSMagics",
        "pycat": "OSMagics",
        "pylab": "PylabMagics",
        "qtconsole": "KernelMagics",
        "quickref": "BasicMagics",
        "recall": "HistoryMagics",
        "rehashx": "OSMagics",
        "reload_ext": "ExtensionMagics",
        "rep": "Other",
        "rerun": "HistoryMagics",
        "reset": "NamespaceMagics",
        "reset_selective": "NamespaceMagics",
        "rm": "Other",
        "rmdir": "Other",
        "run": "ExecutionMagics",
        "save": "CodeMagics",
        "sc": "OSMagics",
        "set_env": "OSMagics",
        "store": "StoreMagics",
        "sx": "OSMagics",
        "system": "OSMagics",
        "tb": "ExecutionMagics",
        "time": "ExecutionMagics",
        "timeit": "ExecutionMagics",
        "unalias": "OSMagics",
        "unload_ext": "ExtensionMagics",
        "who": "NamespaceMagics",
        "who_ls": "NamespaceMagics",
        "whos": "NamespaceMagics",
        "xdel": "NamespaceMagics",
        "xmode": "BasicMagics"
       }
      },
      "text/plain": [
       "Available line magics:\n",
       "%alias  %alias_magic  %autocall  %automagic  %autosave  %bookmark  %cat  %cd  %clear  %colors  %config  %connect_info  %cp  %debug  %dhist  %dirs  %doctest_mode  %ed  %edit  %env  %gui  %hist  %history  %killbgscripts  %ldir  %less  %lf  %lk  %ll  %load  %load_ext  %loadpy  %logoff  %logon  %logstart  %logstate  %logstop  %ls  %lsmagic  %lx  %macro  %magic  %man  %matplotlib  %mkdir  %more  %mv  %notebook  %page  %pastebin  %pdb  %pdef  %pdoc  %pfile  %pinfo  %pinfo2  %popd  %pprint  %precision  %profile  %prun  %psearch  %psource  %pushd  %pwd  %pycat  %pylab  %qtconsole  %quickref  %recall  %rehashx  %reload_ext  %rep  %rerun  %reset  %reset_selective  %rm  %rmdir  %run  %save  %sc  %set_env  %store  %sx  %system  %tb  %time  %timeit  %unalias  %unload_ext  %who  %who_ls  %whos  %xdel  %xmode\n",
       "\n",
       "Available cell magics:\n",
       "%%!  %%HTML  %%SVG  %%bash  %%capture  %%debug  %%file  %%html  %%javascript  %%js  %%latex  %%markdown  %%perl  %%prun  %%pypy  %%python  %%python2  %%python3  %%ruby  %%script  %%sh  %%svg  %%sx  %%system  %%time  %%timeit  %%writefile\n",
       "\n",
       "Automagic is ON, % prefix IS NOT needed for line magics."
      ]
     },
     "execution_count": 8,
     "metadata": {},
     "output_type": "execute_result"
    }
   ],
   "source": [
    "%lsmagic # muestra todos los comandos mágicos"
   ]
  },
  {
   "cell_type": "markdown",
   "metadata": {},
   "source": [
    "Uno bastante util es **%%timeit**:"
   ]
  },
  {
   "cell_type": "code",
   "execution_count": 9,
   "metadata": {},
   "outputs": [],
   "source": [
    "import time\n",
    "import numpy as np #agregemosle sal \n",
    "\n",
    "time.sleep(2+np.random.normal(0,0.1))"
   ]
  },
  {
   "cell_type": "markdown",
   "metadata": {},
   "source": [
    "Cuanto se demora lo anterior? podemos ser *brutos*:"
   ]
  },
  {
   "cell_type": "code",
   "execution_count": 10,
   "metadata": {},
   "outputs": [
    {
     "name": "stdout",
     "output_type": "stream",
     "text": [
      "2.107855796813965\n"
     ]
    }
   ],
   "source": [
    "t0 = time.time()\n",
    "time.sleep(2+np.random.normal(0,0.1))\n",
    "print(time.time()-t0)"
   ]
  },
  {
   "cell_type": "markdown",
   "metadata": {},
   "source": [
    "casi 0.2 segundos, pero este tiempo depende del uso de la CPU en ese momento, no es *fiable*, mejor es usar la celda mágica **%%timeit**"
   ]
  },
  {
   "cell_type": "code",
   "execution_count": 11,
   "metadata": {},
   "outputs": [
    {
     "name": "stdout",
     "output_type": "stream",
     "text": [
      "1.96 s ± 98 ms per loop (mean ± std. dev. of 7 runs, 1 loop each)\n"
     ]
    }
   ],
   "source": [
    "%%timeit\n",
    "time.sleep(2+np.random.normal(0,0.1))"
   ]
  },
  {
   "cell_type": "markdown",
   "metadata": {},
   "source": [
    "Recuperamos la std del error que agregamos!"
   ]
  },
  {
   "cell_type": "markdown",
   "metadata": {},
   "source": [
    "Esto puede servir para perfilar la performance del código, aunque para una optimización más profunda, hay herramientas mucho más avanzadas.\n",
    "\n",
    "Otra magia util es **%whos** que nos da una descripción de las variables en memoria "
   ]
  },
  {
   "cell_type": "code",
   "execution_count": 12,
   "metadata": {},
   "outputs": [
    {
     "name": "stdout",
     "output_type": "stream",
     "text": [
      "Variable   Type      Data/Info\n",
      "------------------------------\n",
      "auto       str       bus\n",
      "autos      list      n=3\n",
      "contador   int       2\n",
      "i          int       2\n",
      "np         module    <module 'numpy' from '/ho<...>kages/numpy/__init__.py'>\n",
      "persona    str       persona 2\n",
      "personas   list      n=3\n",
      "plt        module    <module 'matplotlib.pyplo<...>es/matplotlib/pyplot.py'>\n",
      "t0         float     1516830341.623144\n",
      "this       module    <module 'this' from '/hom<...>X/lib/python3.6/this.py'>\n",
      "time       module    <module 'time' (built-in)>\n"
     ]
    }
   ],
   "source": [
    "%whos"
   ]
  },
  {
   "cell_type": "code",
   "execution_count": 13,
   "metadata": {},
   "outputs": [
    {
     "name": "stdout",
     "output_type": "stream",
     "text": [
      "Variable   Type      Data/Info\n",
      "------------------------------\n",
      "auto       str       bus\n",
      "autos      list      n=3\n",
      "contador   int       2\n",
      "i          int       2\n",
      "np         module    <module 'numpy' from '/ho<...>kages/numpy/__init__.py'>\n",
      "persona    str       persona 2\n",
      "personas   list      n=3\n",
      "plt        module    <module 'matplotlib.pyplo<...>es/matplotlib/pyplot.py'>\n",
      "this       module    <module 'this' from '/hom<...>X/lib/python3.6/this.py'>\n",
      "time       module    <module 'time' (built-in)>\n"
     ]
    }
   ],
   "source": [
    "del t0\n",
    "%whos"
   ]
  },
  {
   "cell_type": "code",
   "execution_count": null,
   "metadata": {},
   "outputs": [],
   "source": []
  }
 ],
 "metadata": {
  "kernelspec": {
   "display_name": "Python 3",
   "language": "python",
   "name": "python3"
  },
  "language_info": {
   "codemirror_mode": {
    "name": "ipython",
    "version": 3
   },
   "file_extension": ".py",
   "mimetype": "text/x-python",
   "name": "python",
   "nbconvert_exporter": "python",
   "pygments_lexer": "ipython3",
   "version": "3.6.4"
  }
 },
 "nbformat": 4,
 "nbformat_minor": 2
}
